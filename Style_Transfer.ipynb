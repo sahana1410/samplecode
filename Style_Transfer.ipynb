{
  "nbformat": 4,
  "nbformat_minor": 0,
  "metadata": {
    "colab": {
      "provenance": [],
      "authorship_tag": "ABX9TyPBpGMXwesWXVxlwgpdCGwe",
      "include_colab_link": true
    },
    "kernelspec": {
      "name": "python3",
      "display_name": "Python 3"
    },
    "language_info": {
      "name": "python"
    }
  },
  "cells": [
    {
      "cell_type": "markdown",
      "metadata": {
        "id": "view-in-github",
        "colab_type": "text"
      },
      "source": [
        "<a href=\"https://colab.research.google.com/github/sahana1410/samplecode/blob/main/Style_Transfer.ipynb\" target=\"_parent\"><img src=\"https://colab.research.google.com/assets/colab-badge.svg\" alt=\"Open In Colab\"/></a>"
      ]
    },
    {
      "cell_type": "code",
      "execution_count": 1,
      "metadata": {
        "id": "o4MTRAbr5DUT"
      },
      "outputs": [],
      "source": [
        "\n",
        "# ✅ STEP 1: Install required libraries\n",
        "!pip install tensorflow opencv-python pillow --quiet\n"
      ]
    },
    {
      "cell_type": "code",
      "source": [
        "# ✅ STEP 2: Upload Images (style.jpg + content1.jpg to content5.jpg)\n",
        "from google.colab import files\n",
        "uploaded = files.upload()\n",
        "\n",
        "# Your uploaded files are now available in the current working directory (/content/)\n"
      ],
      "metadata": {
        "colab": {
          "base_uri": "https://localhost:8080/",
          "height": 246
        },
        "id": "IQ-LIWFJ5TFY",
        "outputId": "ada66ff1-8c81-4595-8089-d54ecfb2cce1"
      },
      "execution_count": 2,
      "outputs": [
        {
          "output_type": "display_data",
          "data": {
            "text/plain": [
              "<IPython.core.display.HTML object>"
            ],
            "text/html": [
              "\n",
              "     <input type=\"file\" id=\"files-a47abb52-b8dd-4f39-82b9-cff0bd456e94\" name=\"files[]\" multiple disabled\n",
              "        style=\"border:none\" />\n",
              "     <output id=\"result-a47abb52-b8dd-4f39-82b9-cff0bd456e94\">\n",
              "      Upload widget is only available when the cell has been executed in the\n",
              "      current browser session. Please rerun this cell to enable.\n",
              "      </output>\n",
              "      <script>// Copyright 2017 Google LLC\n",
              "//\n",
              "// Licensed under the Apache License, Version 2.0 (the \"License\");\n",
              "// you may not use this file except in compliance with the License.\n",
              "// You may obtain a copy of the License at\n",
              "//\n",
              "//      http://www.apache.org/licenses/LICENSE-2.0\n",
              "//\n",
              "// Unless required by applicable law or agreed to in writing, software\n",
              "// distributed under the License is distributed on an \"AS IS\" BASIS,\n",
              "// WITHOUT WARRANTIES OR CONDITIONS OF ANY KIND, either express or implied.\n",
              "// See the License for the specific language governing permissions and\n",
              "// limitations under the License.\n",
              "\n",
              "/**\n",
              " * @fileoverview Helpers for google.colab Python module.\n",
              " */\n",
              "(function(scope) {\n",
              "function span(text, styleAttributes = {}) {\n",
              "  const element = document.createElement('span');\n",
              "  element.textContent = text;\n",
              "  for (const key of Object.keys(styleAttributes)) {\n",
              "    element.style[key] = styleAttributes[key];\n",
              "  }\n",
              "  return element;\n",
              "}\n",
              "\n",
              "// Max number of bytes which will be uploaded at a time.\n",
              "const MAX_PAYLOAD_SIZE = 100 * 1024;\n",
              "\n",
              "function _uploadFiles(inputId, outputId) {\n",
              "  const steps = uploadFilesStep(inputId, outputId);\n",
              "  const outputElement = document.getElementById(outputId);\n",
              "  // Cache steps on the outputElement to make it available for the next call\n",
              "  // to uploadFilesContinue from Python.\n",
              "  outputElement.steps = steps;\n",
              "\n",
              "  return _uploadFilesContinue(outputId);\n",
              "}\n",
              "\n",
              "// This is roughly an async generator (not supported in the browser yet),\n",
              "// where there are multiple asynchronous steps and the Python side is going\n",
              "// to poll for completion of each step.\n",
              "// This uses a Promise to block the python side on completion of each step,\n",
              "// then passes the result of the previous step as the input to the next step.\n",
              "function _uploadFilesContinue(outputId) {\n",
              "  const outputElement = document.getElementById(outputId);\n",
              "  const steps = outputElement.steps;\n",
              "\n",
              "  const next = steps.next(outputElement.lastPromiseValue);\n",
              "  return Promise.resolve(next.value.promise).then((value) => {\n",
              "    // Cache the last promise value to make it available to the next\n",
              "    // step of the generator.\n",
              "    outputElement.lastPromiseValue = value;\n",
              "    return next.value.response;\n",
              "  });\n",
              "}\n",
              "\n",
              "/**\n",
              " * Generator function which is called between each async step of the upload\n",
              " * process.\n",
              " * @param {string} inputId Element ID of the input file picker element.\n",
              " * @param {string} outputId Element ID of the output display.\n",
              " * @return {!Iterable<!Object>} Iterable of next steps.\n",
              " */\n",
              "function* uploadFilesStep(inputId, outputId) {\n",
              "  const inputElement = document.getElementById(inputId);\n",
              "  inputElement.disabled = false;\n",
              "\n",
              "  const outputElement = document.getElementById(outputId);\n",
              "  outputElement.innerHTML = '';\n",
              "\n",
              "  const pickedPromise = new Promise((resolve) => {\n",
              "    inputElement.addEventListener('change', (e) => {\n",
              "      resolve(e.target.files);\n",
              "    });\n",
              "  });\n",
              "\n",
              "  const cancel = document.createElement('button');\n",
              "  inputElement.parentElement.appendChild(cancel);\n",
              "  cancel.textContent = 'Cancel upload';\n",
              "  const cancelPromise = new Promise((resolve) => {\n",
              "    cancel.onclick = () => {\n",
              "      resolve(null);\n",
              "    };\n",
              "  });\n",
              "\n",
              "  // Wait for the user to pick the files.\n",
              "  const files = yield {\n",
              "    promise: Promise.race([pickedPromise, cancelPromise]),\n",
              "    response: {\n",
              "      action: 'starting',\n",
              "    }\n",
              "  };\n",
              "\n",
              "  cancel.remove();\n",
              "\n",
              "  // Disable the input element since further picks are not allowed.\n",
              "  inputElement.disabled = true;\n",
              "\n",
              "  if (!files) {\n",
              "    return {\n",
              "      response: {\n",
              "        action: 'complete',\n",
              "      }\n",
              "    };\n",
              "  }\n",
              "\n",
              "  for (const file of files) {\n",
              "    const li = document.createElement('li');\n",
              "    li.append(span(file.name, {fontWeight: 'bold'}));\n",
              "    li.append(span(\n",
              "        `(${file.type || 'n/a'}) - ${file.size} bytes, ` +\n",
              "        `last modified: ${\n",
              "            file.lastModifiedDate ? file.lastModifiedDate.toLocaleDateString() :\n",
              "                                    'n/a'} - `));\n",
              "    const percent = span('0% done');\n",
              "    li.appendChild(percent);\n",
              "\n",
              "    outputElement.appendChild(li);\n",
              "\n",
              "    const fileDataPromise = new Promise((resolve) => {\n",
              "      const reader = new FileReader();\n",
              "      reader.onload = (e) => {\n",
              "        resolve(e.target.result);\n",
              "      };\n",
              "      reader.readAsArrayBuffer(file);\n",
              "    });\n",
              "    // Wait for the data to be ready.\n",
              "    let fileData = yield {\n",
              "      promise: fileDataPromise,\n",
              "      response: {\n",
              "        action: 'continue',\n",
              "      }\n",
              "    };\n",
              "\n",
              "    // Use a chunked sending to avoid message size limits. See b/62115660.\n",
              "    let position = 0;\n",
              "    do {\n",
              "      const length = Math.min(fileData.byteLength - position, MAX_PAYLOAD_SIZE);\n",
              "      const chunk = new Uint8Array(fileData, position, length);\n",
              "      position += length;\n",
              "\n",
              "      const base64 = btoa(String.fromCharCode.apply(null, chunk));\n",
              "      yield {\n",
              "        response: {\n",
              "          action: 'append',\n",
              "          file: file.name,\n",
              "          data: base64,\n",
              "        },\n",
              "      };\n",
              "\n",
              "      let percentDone = fileData.byteLength === 0 ?\n",
              "          100 :\n",
              "          Math.round((position / fileData.byteLength) * 100);\n",
              "      percent.textContent = `${percentDone}% done`;\n",
              "\n",
              "    } while (position < fileData.byteLength);\n",
              "  }\n",
              "\n",
              "  // All done.\n",
              "  yield {\n",
              "    response: {\n",
              "      action: 'complete',\n",
              "    }\n",
              "  };\n",
              "}\n",
              "\n",
              "scope.google = scope.google || {};\n",
              "scope.google.colab = scope.google.colab || {};\n",
              "scope.google.colab._files = {\n",
              "  _uploadFiles,\n",
              "  _uploadFilesContinue,\n",
              "};\n",
              "})(self);\n",
              "</script> "
            ]
          },
          "metadata": {}
        },
        {
          "output_type": "stream",
          "name": "stdout",
          "text": [
            "Saving content1.jpg to content1.jpg\n",
            "Saving content2.jpg to content2.jpg\n",
            "Saving content3.jpg to content3.jpg\n",
            "Saving content4.jpg to content4.jpg\n",
            "Saving content5.jpg to content5.jpg\n",
            "Saving style.jpg to style.jpg\n"
          ]
        }
      ]
    },
    {
      "cell_type": "code",
      "source": [
        "# ✅ STEP 3: Imports and Utility Functions\n",
        "import tensorflow as tf\n",
        "import numpy as np\n",
        "import cv2\n",
        "import os\n",
        "from PIL import Image\n",
        "from tensorflow.keras.applications import vgg19\n",
        "from tensorflow.keras.models import Model\n",
        "\n",
        "# Load and preprocess image\n",
        "def load_and_process_image(image_path, max_dim=512):\n",
        "    img = Image.open(image_path)\n",
        "    img = img.convert(\"RGB\")\n",
        "    img.thumbnail((max_dim, max_dim))\n",
        "    img = np.array(img)\n",
        "    img = np.expand_dims(img, axis=0)\n",
        "    return vgg19.preprocess_input(img.astype(np.float32))\n",
        "\n",
        "# Deprocess image\n",
        "def deprocess_image(x):\n",
        "    x = x.reshape((x.shape[1], x.shape[2], 3))\n",
        "    x[:, :, 0] += 103.939\n",
        "    x[:, :, 1] += 116.779\n",
        "    x[:, :, 2] += 123.68\n",
        "    x = x[:, :, ::-1]\n",
        "    x = np.clip(x, 0, 255).astype('uint8')\n",
        "    return x\n",
        "\n",
        "# Load VGG19 for feature extraction\n",
        "def get_model():\n",
        "    vgg = vgg19.VGG19(include_top=False, weights='imagenet')\n",
        "    vgg.trainable = False\n",
        "    content_layers = ['block5_conv2']\n",
        "    style_layers = ['block1_conv1', 'block2_conv1', 'block3_conv1',\n",
        "                    'block4_conv1', 'block5_conv1']\n",
        "    outputs = [vgg.get_layer(name).output for name in (style_layers + content_layers)]\n",
        "    return Model(inputs=vgg.input, outputs=outputs), style_layers, content_layers\n",
        "\n",
        "def gram_matrix(tensor):\n",
        "    result = tf.linalg.einsum('bijc,bijd->bcd', tensor, tensor)\n",
        "    input_shape = tf.shape(tensor)\n",
        "    num_locations = tf.cast(input_shape[1]*input_shape[2], tf.float32)\n",
        "    return result / num_locations\n",
        "\n",
        "def get_feature_representations(model, content_image, style_image, style_layers, content_layers):\n",
        "    style_outputs = model(style_image)\n",
        "    content_outputs = model(content_image)\n",
        "    style_features = [gram_matrix(style_outputs[i]) for i in range(len(style_layers))]\n",
        "    content_features = [content_outputs[i + len(style_layers)] for i in range(len(content_layers))]\n",
        "    return style_features, content_features\n",
        "\n",
        "def compute_loss(model, loss_weights, init_image, gram_style_features, content_features, style_layers, content_layers):\n",
        "    style_weight, content_weight = loss_weights\n",
        "    model_outputs = model(init_image)\n",
        "    style_output_features = model_outputs[:len(style_layers)]\n",
        "    content_output_features = model_outputs[len(style_layers):]\n",
        "\n",
        "    style_score = 0\n",
        "    content_score = 0\n",
        "\n",
        "    for target_style, comb_style in zip(gram_style_features, style_output_features):\n",
        "        style_score += tf.reduce_mean((gram_matrix(comb_style) - target_style) ** 2)\n",
        "\n",
        "    for target_content, comb_content in zip(content_features, content_output_features):\n",
        "        content_score += tf.reduce_mean((comb_content - target_content) ** 2)\n",
        "\n",
        "    style_score *= style_weight\n",
        "    content_score *= content_weight\n",
        "    total_loss = style_score + content_score\n",
        "    return total_loss, style_score, content_score\n",
        "\n",
        "@tf.function()\n",
        "def compute_grads(cfg):\n",
        "    with tf.GradientTape() as tape:\n",
        "        all_loss = compute_loss(**cfg)\n",
        "    total_loss = all_loss[0]\n",
        "    return tape.gradient(total_loss, cfg['init_image']), all_loss\n"
      ],
      "metadata": {
        "id": "4IguHs9I5b20"
      },
      "execution_count": 3,
      "outputs": []
    },
    {
      "cell_type": "code",
      "source": [
        "# ✅ STEP 4: Style Transfer Function\n",
        "def run_style_transfer(content_path, style_path, output_path,\n",
        "                       iterations=300, content_weight=1e3, style_weight=1e-2):\n",
        "    model, style_layers, content_layers = get_model()\n",
        "\n",
        "    content_image = load_and_process_image(content_path)\n",
        "    style_image = load_and_process_image(style_path)\n",
        "\n",
        "    style_features, content_features = get_feature_representations(\n",
        "        model, content_image, style_image, style_layers, content_layers)\n",
        "\n",
        "    init_image = tf.Variable(content_image, dtype=tf.float32)\n",
        "    opt = tf.optimizers.Adam(learning_rate=5.0)\n",
        "\n",
        "    best_img = None\n",
        "    best_loss = float('inf')\n",
        "\n",
        "    cfg = {\n",
        "        'model': model,\n",
        "        'loss_weights': (style_weight, content_weight),\n",
        "        'init_image': init_image,\n",
        "        'gram_style_features': style_features,\n",
        "        'content_features': content_features,\n",
        "        'style_layers': style_layers,\n",
        "        'content_layers': content_layers\n",
        "    }\n",
        "\n",
        "    for i in range(iterations):\n",
        "        grads, all_loss = compute_grads(cfg)\n",
        "        loss, style_score, content_score = all_loss\n",
        "        opt.apply_gradients([(grads, init_image)])\n",
        "\n",
        "        clipped = tf.clip_by_value(init_image, -103.939, 255.0 - 103.939)\n",
        "        init_image.assign(clipped)\n",
        "\n",
        "        if loss < best_loss:\n",
        "            best_loss = loss\n",
        "            best_img = init_image.numpy()\n",
        "\n",
        "        if i % 100 == 0:\n",
        "            print(f\"Iteration {i}, Total loss: {loss:.4f}\")\n",
        "\n",
        "    result = deprocess_image(best_img)\n",
        "    cv2.imwrite(output_path, cv2.cvtColor(result, cv2.COLOR_RGB2BGR))\n",
        "    print(f\"Saved styled image to {output_path}\")\n"
      ],
      "metadata": {
        "id": "EnmQ-yy75jsI"
      },
      "execution_count": 4,
      "outputs": []
    },
    {
      "cell_type": "code",
      "source": [
        "# ✅ STEP 5: Run Style Transfer for 5 Content Images\n",
        "\n",
        "# Style image name (uploaded earlier)\n",
        "style_img = 'style.jpg'\n",
        "\n",
        "# List of content image names (uploaded earlier)\n",
        "content_images = [\n",
        "    'content1.jpg',\n",
        "    'content2.jpg',\n",
        "    'content3.jpg',\n",
        "    'content4.jpg',\n",
        "    'content5.jpg'\n",
        "]\n",
        "\n",
        "os.makedirs(\"results\", exist_ok=True)\n",
        "\n",
        "for i, content_path in enumerate(content_images):\n",
        "    output_path = f\"results/stylized_{i+1}.jpg\"\n",
        "    run_style_transfer(content_path, style_img, output_path, iterations=2)\n"
      ],
      "metadata": {
        "colab": {
          "base_uri": "https://localhost:8080/"
        },
        "id": "-cf4V8rw5o1T",
        "outputId": "d3d6a2dc-cd55-4251-ec22-bac51a2bd383"
      },
      "execution_count": 6,
      "outputs": [
        {
          "output_type": "stream",
          "name": "stdout",
          "text": [
            "Iteration 0, Total loss: 1115315584.0000\n",
            "Saved styled image to results/stylized_1.jpg\n",
            "Iteration 0, Total loss: 2193614848.0000\n",
            "Saved styled image to results/stylized_2.jpg\n",
            "Iteration 0, Total loss: 1118142464.0000\n",
            "Saved styled image to results/stylized_3.jpg\n"
          ]
        },
        {
          "output_type": "stream",
          "name": "stderr",
          "text": [
            "WARNING:tensorflow:5 out of the last 38 calls to <function compute_grads at 0x7a9220227ec0> triggered tf.function retracing. Tracing is expensive and the excessive number of tracings could be due to (1) creating @tf.function repeatedly in a loop, (2) passing tensors with different shapes, (3) passing Python objects instead of tensors. For (1), please define your @tf.function outside of the loop. For (2), @tf.function has reduce_retracing=True option that can avoid unnecessary retracing. For (3), please refer to https://www.tensorflow.org/guide/function#controlling_retracing and https://www.tensorflow.org/api_docs/python/tf/function for  more details.\n"
          ]
        },
        {
          "output_type": "stream",
          "name": "stdout",
          "text": [
            "Iteration 0, Total loss: 1673658112.0000\n",
            "Saved styled image to results/stylized_4.jpg\n"
          ]
        },
        {
          "output_type": "stream",
          "name": "stderr",
          "text": [
            "WARNING:tensorflow:6 out of the last 40 calls to <function compute_grads at 0x7a9220227ec0> triggered tf.function retracing. Tracing is expensive and the excessive number of tracings could be due to (1) creating @tf.function repeatedly in a loop, (2) passing tensors with different shapes, (3) passing Python objects instead of tensors. For (1), please define your @tf.function outside of the loop. For (2), @tf.function has reduce_retracing=True option that can avoid unnecessary retracing. For (3), please refer to https://www.tensorflow.org/guide/function#controlling_retracing and https://www.tensorflow.org/api_docs/python/tf/function for  more details.\n"
          ]
        },
        {
          "output_type": "stream",
          "name": "stdout",
          "text": [
            "Iteration 0, Total loss: 1049971008.0000\n",
            "Saved styled image to results/stylized_5.jpg\n"
          ]
        }
      ]
    },
    {
      "cell_type": "code",
      "source": [
        "# ✅ STEP 6: Download Results (optional)\n",
        "!zip -r stylized_results.zip results/\n",
        "from google.colab import files\n",
        "files.download(\"stylized_results.zip\")\n"
      ],
      "metadata": {
        "colab": {
          "base_uri": "https://localhost:8080/",
          "height": 121
        },
        "id": "N69uQn5U6Atz",
        "outputId": "c269509e-2e53-4f1c-81be-73ede31b1319"
      },
      "execution_count": 7,
      "outputs": [
        {
          "output_type": "stream",
          "name": "stdout",
          "text": [
            "  adding: results/ (stored 0%)\n",
            "  adding: results/stylized_3.jpg (deflated 1%)\n",
            "  adding: results/stylized_1.jpg (deflated 0%)\n",
            "  adding: results/stylized_2.jpg (deflated 1%)\n",
            "  adding: results/stylized_4.jpg (deflated 2%)\n",
            "  adding: results/stylized_5.jpg (deflated 1%)\n"
          ]
        },
        {
          "output_type": "display_data",
          "data": {
            "text/plain": [
              "<IPython.core.display.Javascript object>"
            ],
            "application/javascript": [
              "\n",
              "    async function download(id, filename, size) {\n",
              "      if (!google.colab.kernel.accessAllowed) {\n",
              "        return;\n",
              "      }\n",
              "      const div = document.createElement('div');\n",
              "      const label = document.createElement('label');\n",
              "      label.textContent = `Downloading \"${filename}\": `;\n",
              "      div.appendChild(label);\n",
              "      const progress = document.createElement('progress');\n",
              "      progress.max = size;\n",
              "      div.appendChild(progress);\n",
              "      document.body.appendChild(div);\n",
              "\n",
              "      const buffers = [];\n",
              "      let downloaded = 0;\n",
              "\n",
              "      const channel = await google.colab.kernel.comms.open(id);\n",
              "      // Send a message to notify the kernel that we're ready.\n",
              "      channel.send({})\n",
              "\n",
              "      for await (const message of channel.messages) {\n",
              "        // Send a message to notify the kernel that we're ready.\n",
              "        channel.send({})\n",
              "        if (message.buffers) {\n",
              "          for (const buffer of message.buffers) {\n",
              "            buffers.push(buffer);\n",
              "            downloaded += buffer.byteLength;\n",
              "            progress.value = downloaded;\n",
              "          }\n",
              "        }\n",
              "      }\n",
              "      const blob = new Blob(buffers, {type: 'application/binary'});\n",
              "      const a = document.createElement('a');\n",
              "      a.href = window.URL.createObjectURL(blob);\n",
              "      a.download = filename;\n",
              "      div.appendChild(a);\n",
              "      a.click();\n",
              "      div.remove();\n",
              "    }\n",
              "  "
            ]
          },
          "metadata": {}
        },
        {
          "output_type": "display_data",
          "data": {
            "text/plain": [
              "<IPython.core.display.Javascript object>"
            ],
            "application/javascript": [
              "download(\"download_ee08cbd5-3748-4216-b20c-78c93925fe2d\", \"stylized_results.zip\", 215683)"
            ]
          },
          "metadata": {}
        }
      ]
    }
  ]
}